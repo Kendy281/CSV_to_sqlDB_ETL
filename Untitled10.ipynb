{
  "nbformat": 4,
  "nbformat_minor": 0,
  "metadata": {
    "colab": {
      "provenance": [],
      "mount_file_id": "1XkUbpaLC6F45b9cdIeqpY7oZZd3ai7kF",
      "authorship_tag": "ABX9TyNlFcmdqYMCKcIyNO1DZyyw",
      "include_colab_link": true
    },
    "kernelspec": {
      "name": "python3",
      "display_name": "Python 3"
    },
    "language_info": {
      "name": "python"
    }
  },
  "cells": [
    {
      "cell_type": "markdown",
      "metadata": {
        "id": "view-in-github",
        "colab_type": "text"
      },
      "source": [
        "<a href=\"https://colab.research.google.com/github/Kendy281/CSV_to_sqlDB_ETL/blob/main/Untitled10.ipynb\" target=\"_parent\"><img src=\"https://colab.research.google.com/assets/colab-badge.svg\" alt=\"Open In Colab\"/></a>"
      ]
    },
    {
      "cell_type": "code",
      "source": [
        "!pip install mysql-connector-python"
      ],
      "metadata": {
        "colab": {
          "base_uri": "https://localhost:8080/"
        },
        "id": "_x2PXD0jhEXE",
        "outputId": "c0599c2b-9e28-4cb1-cd4c-22d9a1221b0f"
      },
      "execution_count": 1,
      "outputs": [
        {
          "output_type": "stream",
          "name": "stdout",
          "text": [
            "Requirement already satisfied: mysql-connector-python in /usr/local/lib/python3.10/dist-packages (9.0.0)\n"
          ]
        }
      ]
    },
    {
      "cell_type": "code",
      "execution_count": 3,
      "metadata": {
        "colab": {
          "base_uri": "https://localhost:8080/"
        },
        "id": "T_vYIqs4hABO",
        "outputId": "0d146bd9-50c8-4464-bafa-f652ca54f0af"
      },
      "outputs": [
        {
          "output_type": "stream",
          "name": "stdout",
          "text": [
            "Table created successfully\n",
            "Data inserted successfully\n"
          ]
        }
      ],
      "source": [
        "import mysql.connector\n",
        "from mysql.connector import errorcode\n",
        "import pandas as pd\n",
        "\n",
        "\n",
        "# Connect to DB\n",
        "config = {\n",
        "  'user': 'sql8722482',\n",
        "  'password': 'exMcfixveJ',\n",
        "  'host': 'sql8.freesqldatabase.com',\n",
        "  'database': 'sql8722482',\n",
        "  'raise_on_warnings': True\n",
        "}\n",
        "try:\n",
        "  cnx = mysql.connector.connect(**config)\n",
        "except mysql.connector.Error as err:\n",
        "  if err.errno == errorcode.ER_ACCESS_DENIED_ERROR:\n",
        "    print(\"Something is wrong with your user name or password\")\n",
        "  elif err.errno == errorcode.ER_BAD_DB_ERROR:\n",
        "    print(\"Database does not exist\")\n",
        "  else:\n",
        "    print(err)\n",
        "else:\n",
        "\n",
        "\n",
        "#SQL SCRIPTS\n",
        "#CREATE TABLE\n",
        "  sql_create_table_script = \" DROP TABLE IF EXISTS INCIDENTS; \\\n",
        "    CREATE TABLE INCIDENTS (\\\n",
        "    Tickets VARCHAR(24) PRIMARY KEY, \\\n",
        "    Region VARCHAR(24), \\\n",
        "    Problem_Fault TEXT, \\\n",
        "    Category VARCHAR(24), \\\n",
        "    Impact VARCHAR(24), \\\n",
        "    Occurrence_Time DATETIME, \\\n",
        "    Resolution_Time DATETIME,\\\n",
        "    Restoration_Action TEXT, \\\n",
        "    Count_2G INT,\\\n",
        "    Count_3G INT, \\\n",
        "    Count_4G INT, \\\n",
        "    Vendor VARCHAR(24), \\\n",
        "    Affected_Sites TEXT);\"\n",
        "\n",
        "\n",
        "#INSERT DATA INTO TABLE\n",
        "  sql_insert_data_script = \"INSERT INTO INCIDENTS ( \\\n",
        "    Tickets, Region, Problem_Fault, Category, Impact, Occurrence_Time, Resolution_Time, Restoration_Action, Count_2G, Count_3G, Count_4G, Vendor, Affected_Sites \\\n",
        "    ) VALUES (%s, %s, %s, %s, %s, %s, %s, %s, %s, %s, %s, %s, %s);\"\n",
        "\n",
        "# Create Table in DB\n",
        "  cursor = cnx.cursor()\n",
        "\n",
        "for result in cursor.execute(sql_create_table_script, multi=True):\n",
        "  pass\n",
        "print(\"Table created successfully\")\n",
        "\n",
        "# Close connection\n",
        "cursor.close()\n",
        "cnx.close()\n",
        "\n",
        "\n",
        "\n",
        "  #Read Data from csv file (Extact)\n",
        "incidents = pd.read_csv(\"/content/drive/MyDrive/www.kendyonline.com/incidents_data_with_sites.csv\")\n",
        "\n",
        " # incidents.info()\n",
        "\n",
        "\n",
        "\n",
        "#TRANSFORM DATA\n",
        "#Change column dtypes\n",
        "incidents['Occurrence_Time'] = pd.to_datetime(incidents['Occurrence_Time'])\n",
        "incidents['Resolution_Time'] = pd.to_datetime(incidents['Resolution_Time'])\n",
        "\n",
        "#Drop unnecessary columns to match DB table\n",
        "incidents2 = incidents.drop(columns=['MTTR', 'MTTR_Hrs', 'Outage_Hours_2G', 'Outage_Hours_3G', 'Outage_Hours_4G'])\n",
        "\n",
        "\n",
        "#Store incident items in a tuple\n",
        "incident_list = []\n",
        "for index, row in incidents2.iterrows():\n",
        "  incident_list.append(tuple(row))\n",
        "\n",
        "\n",
        "#Insert Data\n",
        "try:\n",
        "  cnx = mysql.connector.connect(**config)\n",
        "  cursor = cnx.cursor()\n",
        "  cursor.executemany(sql_insert_data_script, incident_list)\n",
        "  cnx.commit()  # Commit the transaction\n",
        "\n",
        "  print(\"Data inserted successfully\")\n",
        "except mysql.connector.Error as err:\n",
        "  print(f\"Error inserting data: {err}\")\n",
        "finally:\n",
        "  if cursor:\n",
        "    cursor.close()\n",
        "  if cnx:\n",
        "    cnx.close()\n"
      ]
    }
  ]
}